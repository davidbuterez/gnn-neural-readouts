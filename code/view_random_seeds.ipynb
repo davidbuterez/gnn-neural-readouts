{
 "cells": [
  {
   "cell_type": "code",
   "execution_count": 1,
   "metadata": {},
   "outputs": [],
   "source": [
    "import numpy as np"
   ]
  },
  {
   "cell_type": "code",
   "execution_count": 2,
   "metadata": {},
   "outputs": [],
   "source": [
    "molnet_random_seeds = np.load('molnet_random_seeds.npy', allow_pickle=True)"
   ]
  },
  {
   "cell_type": "code",
   "execution_count": 3,
   "metadata": {},
   "outputs": [
    {
     "data": {
      "text/plain": [
       "array({'QM9': array([238442, 914675, 509064, 832833, 541389]), 'ESOL': array([219472, 494820, 515224, 956266,   8865]), 'FreeSolv': array([235867, 328725, 429936, 277582, 133387]), 'Lipo': array([304578,  42276, 778453,  53532, 709148]), 'PCBA': array([481200, 158261, 995094, 287785, 720273]), 'HIV': array([690293, 271848, 228193, 881023, 414286]), 'BACE_CLS': array([919089, 914515, 216937,  27007, 990769]), 'BACE_REGR': array([ 74258, 963028, 528664,  65649, 147234]), 'BBBP': array([389530, 162557, 495662, 540849, 727621]), 'SIDER': array([179602, 999854, 450223, 367789, 952593]), 'QM7': array([643908, 746467, 137876, 647337, 501637]), 'QM8': array([ 86014, 116152, 686760,  15614, 548337])},\n",
       "      dtype=object)"
      ]
     },
     "execution_count": 3,
     "metadata": {},
     "output_type": "execute_result"
    }
   ],
   "source": [
    "molnet_random_seeds"
   ]
  },
  {
   "cell_type": "code",
   "execution_count": null,
   "metadata": {},
   "outputs": [],
   "source": []
  }
 ],
 "metadata": {
  "kernelspec": {
   "display_name": "Python 3.9.9 ('torch-geometric-2')",
   "language": "python",
   "name": "python3"
  },
  "language_info": {
   "codemirror_mode": {
    "name": "ipython",
    "version": 3
   },
   "file_extension": ".py",
   "mimetype": "text/x-python",
   "name": "python",
   "nbconvert_exporter": "python",
   "pygments_lexer": "ipython3",
   "version": "3.9.9"
  },
  "orig_nbformat": 4,
  "vscode": {
   "interpreter": {
    "hash": "92c3512d332dfecc446af173ea486b2aef77501f9d1646c0b7132679fcde3a4a"
   }
  }
 },
 "nbformat": 4,
 "nbformat_minor": 2
}
